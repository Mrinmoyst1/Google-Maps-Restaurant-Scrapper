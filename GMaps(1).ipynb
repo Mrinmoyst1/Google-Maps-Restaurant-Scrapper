{
  "nbformat": 4,
  "nbformat_minor": 0,
  "metadata": {
    "colab": {
      "name": "GMaps.ipynb",
      "provenance": [],
      "collapsed_sections": []
    },
    "kernelspec": {
      "name": "python3",
      "display_name": "Python 3"
    },
    "language_info": {
      "name": "python"
    }
  },
  "cells": [
    {
      "cell_type": "code",
      "source": [
        "import requests\n",
        "import json\n",
        "import time\n",
        "import pandas as pd\n",
        "restaurants = []\n",
        "params = {}\n",
        "  \n",
        "endpoint_url = \"https://maps.googleapis.com/maps/api/place/textsearch/json?query=restaurant&location=23.777176,90.399452&radius=100000&region=bd&type=restaurant&key=API\"\n",
        "         \n",
        "res = requests.get(endpoint_url, params = params)\n",
        "results =  json.loads(res.content)\n",
        "restaurants.extend(results['results'])\n",
        "time.sleep(2)\n",
        "while \"next_page_token\" in results:\n",
        "     params['pagetoken'] = results['next_page_token'],\n",
        "     res = requests.get(endpoint_url, params = params)\n",
        "     results = json.loads(res.content)\n",
        "     restaurants.extend(results['results'])\n",
        "     time.sleep(2)\n",
        "\n"
      ],
      "metadata": {
        "id": "P1eRUIKdy_fw"
      },
      "execution_count": 11,
      "outputs": []
    },
    {
      "cell_type": "code",
      "source": [
        "shop_name = []\n",
        "shop_address = []\n",
        "shop_lat = []\n",
        "shop_lon = []\n",
        "shop_rating = []\n",
        "shop_no_ratings = []\n",
        "shop_price_level = []\n",
        "\n",
        "for i in range (len(restaurants)):\n",
        "  shop = restaurants[i]\n",
        "  print(shop)\n",
        "  try:\n",
        "    shop_name.append(shop['name'])\n",
        "  except:\n",
        "    shop_name.append ('none')\n",
        "  try:\n",
        "    shop_address.append(shop['formatted_address'])\n",
        "  except:\n",
        "    shop_address.append('none')\n",
        "\n",
        "\n",
        "  try:\n",
        "    shop_lat.append(shop['geometry']['location']['lat'])\n",
        "\n",
        "  except:\n",
        "    shop_lat.append('none')  \n",
        "\n",
        "  try:\n",
        "    shop_lon.append(shop['geometry']['location']['lon'])\n",
        "\n",
        "  except:\n",
        "    shop_lon.append('none')    \n"
      ],
      "metadata": {
        "id": "rkzfwZbj0G-r"
      },
      "execution_count": 12,
      "outputs": []
    },
    {
      "cell_type": "code",
      "source": [
        "df_dict = {'shop_name':shop_name,\n",
        "           'shop_address':shop_address,\n",
        "           'shop_lat':shop_lat,\n",
        "           'shop_lon':shop_lon,\n",
        "           'shop_rating':shop_rating,\n",
        "           'shop_rating_count':shop_no_ratings,\n",
        "           'price_level':shop_price_level}\n",
        "\n",
        "all_restaurants = []           \n",
        "\n",
        "restaurants_df = pd.DataFrame(df_dict)\n",
        "restaurants_df['duplicator'] = restaurants_df['shop_name'] + restaurants_df ['shop_address']\n",
        "\n",
        "restaurants_df.drop_duplicates(['duplicator'], inplace = True)\n",
        "\n",
        "all_restaurants = all_restaurants.append(restaurants_df)\n",
        "\n",
        "print(all_restaurants)"
      ],
      "metadata": {
        "colab": {
          "base_uri": "https://localhost:8080/"
        },
        "id": "ZG1jrJIX2Mbe",
        "outputId": "3427bf30-8212-49ec-b911-6af020dfd207"
      },
      "execution_count": 13,
      "outputs": [
        {
          "output_type": "stream",
          "name": "stdout",
          "text": [
            "None\n"
          ]
        }
      ]
    },
    {
      "cell_type": "code",
      "source": [
        "import csv\n",
        "all_restaurants.to_csv('all_data.csv')"
      ],
      "metadata": {
        "id": "He9KCYHEsOx2"
      },
      "execution_count": null,
      "outputs": []
    }
  ]
}